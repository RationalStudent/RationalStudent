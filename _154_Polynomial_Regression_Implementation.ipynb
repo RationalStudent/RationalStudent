{
  "nbformat": 4,
  "nbformat_minor": 0,
  "metadata": {
    "colab": {
      "provenance": [],
      "authorship_tag": "ABX9TyPOqaqAXtEW1nZFpqDspUc6",
      "include_colab_link": true
    },
    "kernelspec": {
      "name": "python3",
      "display_name": "Python 3"
    },
    "language_info": {
      "name": "python"
    }
  },
  "cells": [
    {
      "cell_type": "markdown",
      "metadata": {
        "id": "view-in-github",
        "colab_type": "text"
      },
      "source": [
        "<a href=\"https://colab.research.google.com/github/RationalStudent/RationalStudent/blob/AI-AND-ML/_154_Polynomial_Regression_Implementation.ipynb\" target=\"_parent\"><img src=\"https://colab.research.google.com/assets/colab-badge.svg\" alt=\"Open In Colab\"/></a>"
      ]
    },
    {
      "cell_type": "code",
      "source": [
        "##import libraries\n",
        "import numpy as np\n",
        "import pandas as pd\n",
        "import matplotlib.pyplot as plt\n",
        "%matplotlib inline"
      ],
      "metadata": {
        "id": "p6Py2V9fKc-M"
      },
      "execution_count": 39,
      "outputs": []
    },
    {
      "cell_type": "code",
      "source": [
        "X = 6 * np.random.rand(100, 1) - 3\n",
        "y =0.5 * X**2 + 1.5*X + 2 + np.random.randn(100, 1)\n",
        "# quadratic equation used- y=0.5x^2+1.5x+2+outliers\n",
        "plt.scatter(X,y,color='g')\n",
        "plt.xlabel('X dataset')\n",
        "plt.ylabel('Y dataset')"
      ],
      "metadata": {
        "colab": {
          "base_uri": "https://localhost:8080/",
          "height": 467
        },
        "id": "9CSFpkp1Kf_f",
        "outputId": "ad8b486b-7fdd-4d53-859b-e5cbdd8d94bc"
      },
      "execution_count": 40,
      "outputs": [
        {
          "output_type": "execute_result",
          "data": {
            "text/plain": [
              "Text(0, 0.5, 'Y dataset')"
            ]
          },
          "metadata": {},
          "execution_count": 40
        },
        {
          "output_type": "display_data",
          "data": {
            "text/plain": [
              "<Figure size 640x480 with 1 Axes>"
            ],
            "image/png": "[encoded data removed]"
          },
          "metadata": {}
        }
      ]
    },
    {
      "cell_type": "code",
      "source": [
        "from sklearn.model_selection import train_test_split\n",
        "X_train,X_test,y_train,y_test=train_test_split(X,y,test_size=0.2,random_state=42)\n"
      ],
      "metadata": {
        "id": "_G7ZIiBaKi6M"
      },
      "execution_count": 41,
      "outputs": []
    },
    {
      "cell_type": "code",
      "source": [
        "## Lets implement Simple Linear Regression\n",
        "from sklearn.linear_model import LinearRegression\n",
        "regression_1=LinearRegression()"
      ],
      "metadata": {
        "id": "pHmFIYc_Kmur"
      },
      "execution_count": 42,
      "outputs": []
    },
    {
      "cell_type": "code",
      "source": [
        "regression_1.fit(X_train,y_train)"
      ],
      "metadata": {
        "colab": {
          "base_uri": "https://localhost:8080/",
          "height": 74
        },
        "id": "8su_8Y7KKpwd",
        "outputId": "512efd07-0b90-4e9f-d9f1-9955979f2007"
      },
      "execution_count": 43,
      "outputs": [
        {
          "output_type": "execute_result",
          "data": {
            "text/plain": [
              "LinearRegression()"
            ],
            "text/html": [
              "<style>#sk-container-id-5 {color: black;}#sk-container-id-5 pre{padding: 0;}#sk-container-id-5 div.sk-toggleable {background-color: white;}#sk-container-id-5 label.sk-toggleable__label {cursor: pointer;display: block;width: 100%;margin-bottom: 0;padding: 0.3em;box-sizing: border-box;text-align: center;}#sk-container-id-5 label.sk-toggleable__label-arrow:before {content: \"▸\";float: left;margin-right: 0.25em;color: #696969;}#sk-container-id-5 label.sk-toggleable__label-arrow:hover:before {color: black;}#sk-container-id-5 div.sk-estimator:hover label.sk-toggleable__label-arrow:before {color: black;}#sk-container-id-5 div.sk-toggleable__content {max-height: 0;max-width: 0;overflow: hidden;text-align: left;background-color: #f0f8ff;}#sk-container-id-5 div.sk-toggleable__content pre {margin: 0.2em;color: black;border-radius: 0.25em;background-color: #f0f8ff;}#sk-container-id-5 input.sk-toggleable__control:checked~div.sk-toggleable__content {max-height: 200px;max-width: 100%;overflow: auto;}#sk-container-id-5 input.sk-toggleable__control:checked~label.sk-toggleable__label-arrow:before {content: \"▾\";}#sk-container-id-5 div.sk-estimator input.sk-toggleable__control:checked~label.sk-toggleable__label {background-color: #d4ebff;}#sk-container-id-5 div.sk-label input.sk-toggleable__control:checked~label.sk-toggleable__label {background-color: #d4ebff;}#sk-container-id-5 input.sk-hidden--visually {border: 0;clip: rect(1px 1px 1px 1px);clip: rect(1px, 1px, 1px, 1px);height: 1px;margin: -1px;overflow: hidden;padding: 0;position: absolute;width: 1px;}#sk-container-id-5 div.sk-estimator {font-family: monospace;background-color: #f0f8ff;border: 1px dotted black;border-radius: 0.25em;box-sizing: border-box;margin-bottom: 0.5em;}#sk-container-id-5 div.sk-estimator:hover {background-color: #d4ebff;}#sk-container-id-5 div.sk-parallel-item::after {content: \"\";width: 100%;border-bottom: 1px solid gray;flex-grow: 1;}#sk-container-id-5 div.sk-label:hover label.sk-toggleable__label {background-color: #d4ebff;}#sk-container-id-5 div.sk-serial::before {content: \"\";position: absolute;border-left: 1px solid gray;box-sizing: border-box;top: 0;bottom: 0;left: 50%;z-index: 0;}#sk-container-id-5 div.sk-serial {display: flex;flex-direction: column;align-items: center;background-color: white;padding-right: 0.2em;padding-left: 0.2em;position: relative;}#sk-container-id-5 div.sk-item {position: relative;z-index: 1;}#sk-container-id-5 div.sk-parallel {display: flex;align-items: stretch;justify-content: center;background-color: white;position: relative;}#sk-container-id-5 div.sk-item::before, #sk-container-id-5 div.sk-parallel-item::before {content: \"\";position: absolute;border-left: 1px solid gray;box-sizing: border-box;top: 0;bottom: 0;left: 50%;z-index: -1;}#sk-container-id-5 div.sk-parallel-item {display: flex;flex-direction: column;z-index: 1;position: relative;background-color: white;}#sk-container-id-5 div.sk-parallel-item:first-child::after {align-self: flex-end;width: 50%;}#sk-container-id-5 div.sk-parallel-item:last-child::after {align-self: flex-start;width: 50%;}#sk-container-id-5 div.sk-parallel-item:only-child::after {width: 0;}#sk-container-id-5 div.sk-dashed-wrapped {border: 1px dashed gray;margin: 0 0.4em 0.5em 0.4em;box-sizing: border-box;padding-bottom: 0.4em;background-color: white;}#sk-container-id-5 div.sk-label label {font-family: monospace;font-weight: bold;display: inline-block;line-height: 1.2em;}#sk-container-id-5 div.sk-label-container {text-align: center;}#sk-container-id-5 div.sk-container {/* jupyter's `normalize.less` sets `[hidden] { display: none; }` but bootstrap.min.css set `[hidden] { display: none !important; }` so we also need the `!important` here to be able to override the default hidden behavior on the sphinx rendered scikit-learn.org. See: https://github.com/scikit-learn/scikit-learn/issues/21755 */display: inline-block !important;position: relative;}#sk-container-id-5 div.sk-text-repr-fallback {display: none;}</style><div id=\"sk-container-id-5\" class=\"sk-top-container\"><div class=\"sk-text-repr-fallback\"><pre>LinearRegression()</pre><b>In a Jupyter environment, please rerun this cell to show the HTML representation or trust the notebook. <br />On GitHub, the HTML representation is unable to render, please try loading this page with nbviewer.org.</b></div><div class=\"sk-container\" hidden><div class=\"sk-item\"><div class=\"sk-estimator sk-toggleable\"><input class=\"sk-toggleable__control sk-hidden--visually\" id=\"sk-estimator-id-5\" type=\"checkbox\" checked><label for=\"sk-estimator-id-5\" class=\"sk-toggleable__label sk-toggleable__label-arrow\">LinearRegression</label><div class=\"sk-toggleable__content\"><pre>LinearRegression()</pre></div></div></div></div></div>"
            ]
          },
          "metadata": {},
          "execution_count": 43
        }
      ]
    },
    {
      "cell_type": "code",
      "source": [
        "from sklearn.metrics import r2_score\n",
        "score=r2_score(y_test,regression_1.predict(X_test))\n",
        "print(score)"
      ],
      "metadata": {
        "colab": {
          "base_uri": "https://localhost:8080/"
        },
        "id": "btO5IpDDKuPR",
        "outputId": "8b31672a-3d07-4807-fa26-5f08b9ddcca5"
      },
      "execution_count": 44,
      "outputs": [
        {
          "output_type": "stream",
          "name": "stdout",
          "text": [
            "0.7235646552496544\n"
          ]
        }
      ]
    },
    {
      "cell_type": "code",
      "source": [
        "## Lets visualize this model\n",
        "plt.plot(X_train,regression_1.predict(X_train),color='r')\n",
        "plt.scatter(X_train,y_train)\n",
        "plt.xlabel(\"X Dataset\")\n",
        "plt.ylabel(\"Y\")"
      ],
      "metadata": {
        "colab": {
          "base_uri": "https://localhost:8080/",
          "height": 467
        },
        "id": "R3FEdMkwKvgt",
        "outputId": "e01f4e12-7617-4076-8c9e-edffec962aa6"
      },
      "execution_count": 45,
      "outputs": [
        {
          "output_type": "execute_result",
          "data": {
            "text/plain": [
              "Text(0, 0.5, 'Y')"
            ]
          },
          "metadata": {},
          "execution_count": 45
        },
        {
          "output_type": "display_data",
          "data": {
            "text/plain": [
              "<Figure size 640x480 with 1 Axes>"
            ],
            "image/png": "[encoded data removed]"
          },
          "metadata": {}
        }
      ]
    },
    {
      "cell_type": "code",
      "source": [
        "#LEts apply polynomial transformation\n",
        "from sklearn.preprocessing import PolynomialFeatures"
      ],
      "metadata": {
        "id": "qsmSuEemKzY3"
      },
      "execution_count": 46,
      "outputs": []
    },
    {
      "cell_type": "code",
      "source": [
        "#poly=PolynomialFeatures(degree=2,include_bias=True)\n",
        "#X_train_poly=poly.fit_transform(X_train)\n",
        "#X_test_poly=poly.transform(X_test)"
      ],
      "metadata": {
        "id": "0P7lfELXK1w6"
      },
      "execution_count": 51,
      "outputs": []
    },
    {
      "cell_type": "code",
      "source": [
        "\n",
        "#X_train_poly"
      ],
      "metadata": {
        "id": "55HLLfZ5K4p-"
      },
      "execution_count": 53,
      "outputs": []
    },
    {
      "cell_type": "code",
      "source": [
        "#X_test_poly\n"
      ],
      "metadata": {
        "id": "S5INK9ktK9da"
      },
      "execution_count": 54,
      "outputs": []
    },
    {
      "cell_type": "markdown",
      "source": [
        "# NEW\n"
      ],
      "metadata": {
        "id": "k7X8VIh1U1yV"
      }
    },
    {
      "cell_type": "code",
      "source": [
        "import numpy as np\n",
        "import pandas as pd\n",
        "import matplotlib.pyplot as plt\n",
        "%matplotlib inline"
      ],
      "metadata": {
        "id": "vQZ-Wmz610-Z"
      },
      "execution_count": 28,
      "outputs": []
    },
    {
      "cell_type": "code",
      "source": [
        "X = 6 * np.random.rand(100, 1) - 3\n",
        "y =0.5 * X**2 + 1.5*X + 2 + np.random.randn(100, 1)\n",
        "# quadratic equation used- y=0.5x^2+1.5x+2+outliers\n",
        "plt.scatter(X,y,color='g')\n",
        "plt.xlabel('X dataset')\n",
        "plt.ylabel('Y dataset')"
      ],
      "metadata": {
        "id": "cEiNyT8muKME",
        "colab": {
          "base_uri": "https://localhost:8080/",
          "height": 467
        },
        "outputId": "657990db-b55c-419b-9b02-7ee4bfbe0acc"
      },
      "execution_count": 29,
      "outputs": [
        {
          "output_type": "execute_result",
          "data": {
            "text/plain": [
              "Text(0, 0.5, 'Y dataset')"
            ]
          },
          "metadata": {},
          "execution_count": 29
        },
        {
          "output_type": "display_data",
          "data": {
            "text/plain": [
              "<Figure size 640x480 with 1 Axes>"
            ],
            "image/png": "[encoded data removed]"
          },
          "metadata": {}
        }
      ]
    },
    {
      "cell_type": "code",
      "source": [
        "from sklearn.model_selection import train_test_split\n",
        "X_train,X_test,y_train,y_test=train_test_split(X,y,test_size=0.2,random_state=42)"
      ],
      "metadata": {
        "id": "WfBWjrSxA0CM"
      },
      "execution_count": 30,
      "outputs": []
    },
    {
      "cell_type": "code",
      "source": [
        "#lets implement simple linear regression\n",
        "from sklearn.linear_model import LinearRegression\n",
        "reg_1=LinearRegression()"
      ],
      "metadata": {
        "id": "oIHdf-Q9CZig"
      },
      "execution_count": 31,
      "outputs": []
    },
    {
      "cell_type": "code",
      "source": [
        "reg_1.fit(X_train,y_train)"
      ],
      "metadata": {
        "colab": {
          "base_uri": "https://localhost:8080/",
          "height": 74
        },
        "id": "6S9I1XFDFaFq",
        "outputId": "e4379166-92f3-4de7-8b65-c5218e59f345"
      },
      "execution_count": 32,
      "outputs": [
        {
          "output_type": "execute_result",
          "data": {
            "text/plain": [
              "LinearRegression()"
            ],
            "text/html": [
              "<style>#sk-container-id-4 {color: black;}#sk-container-id-4 pre{padding: 0;}#sk-container-id-4 div.sk-toggleable {background-color: white;}#sk-container-id-4 label.sk-toggleable__label {cursor: pointer;display: block;width: 100%;margin-bottom: 0;padding: 0.3em;box-sizing: border-box;text-align: center;}#sk-container-id-4 label.sk-toggleable__label-arrow:before {content: \"▸\";float: left;margin-right: 0.25em;color: #696969;}#sk-container-id-4 label.sk-toggleable__label-arrow:hover:before {color: black;}#sk-container-id-4 div.sk-estimator:hover label.sk-toggleable__label-arrow:before {color: black;}#sk-container-id-4 div.sk-toggleable__content {max-height: 0;max-width: 0;overflow: hidden;text-align: left;background-color: #f0f8ff;}#sk-container-id-4 div.sk-toggleable__content pre {margin: 0.2em;color: black;border-radius: 0.25em;background-color: #f0f8ff;}#sk-container-id-4 input.sk-toggleable__control:checked~div.sk-toggleable__content {max-height: 200px;max-width: 100%;overflow: auto;}#sk-container-id-4 input.sk-toggleable__control:checked~label.sk-toggleable__label-arrow:before {content: \"▾\";}#sk-container-id-4 div.sk-estimator input.sk-toggleable__control:checked~label.sk-toggleable__label {background-color: #d4ebff;}#sk-container-id-4 div.sk-label input.sk-toggleable__control:checked~label.sk-toggleable__label {background-color: #d4ebff;}#sk-container-id-4 input.sk-hidden--visually {border: 0;clip: rect(1px 1px 1px 1px);clip: rect(1px, 1px, 1px, 1px);height: 1px;margin: -1px;overflow: hidden;padding: 0;position: absolute;width: 1px;}#sk-container-id-4 div.sk-estimator {font-family: monospace;background-color: #f0f8ff;border: 1px dotted black;border-radius: 0.25em;box-sizing: border-box;margin-bottom: 0.5em;}#sk-container-id-4 div.sk-estimator:hover {background-color: #d4ebff;}#sk-container-id-4 div.sk-parallel-item::after {content: \"\";width: 100%;border-bottom: 1px solid gray;flex-grow: 1;}#sk-container-id-4 div.sk-label:hover label.sk-toggleable__label {background-color: #d4ebff;}#sk-container-id-4 div.sk-serial::before {content: \"\";position: absolute;border-left: 1px solid gray;box-sizing: border-box;top: 0;bottom: 0;left: 50%;z-index: 0;}#sk-container-id-4 div.sk-serial {display: flex;flex-direction: column;align-items: center;background-color: white;padding-right: 0.2em;padding-left: 0.2em;position: relative;}#sk-container-id-4 div.sk-item {position: relative;z-index: 1;}#sk-container-id-4 div.sk-parallel {display: flex;align-items: stretch;justify-content: center;background-color: white;position: relative;}#sk-container-id-4 div.sk-item::before, #sk-container-id-4 div.sk-parallel-item::before {content: \"\";position: absolute;border-left: 1px solid gray;box-sizing: border-box;top: 0;bottom: 0;left: 50%;z-index: -1;}#sk-container-id-4 div.sk-parallel-item {display: flex;flex-direction: column;z-index: 1;position: relative;background-color: white;}#sk-container-id-4 div.sk-parallel-item:first-child::after {align-self: flex-end;width: 50%;}#sk-container-id-4 div.sk-parallel-item:last-child::after {align-self: flex-start;width: 50%;}#sk-container-id-4 div.sk-parallel-item:only-child::after {width: 0;}#sk-container-id-4 div.sk-dashed-wrapped {border: 1px dashed gray;margin: 0 0.4em 0.5em 0.4em;box-sizing: border-box;padding-bottom: 0.4em;background-color: white;}#sk-container-id-4 div.sk-label label {font-family: monospace;font-weight: bold;display: inline-block;line-height: 1.2em;}#sk-container-id-4 div.sk-label-container {text-align: center;}#sk-container-id-4 div.sk-container {/* jupyter's `normalize.less` sets `[hidden] { display: none; }` but bootstrap.min.css set `[hidden] { display: none !important; }` so we also need the `!important` here to be able to override the default hidden behavior on the sphinx rendered scikit-learn.org. See: https://github.com/scikit-learn/scikit-learn/issues/21755 */display: inline-block !important;position: relative;}#sk-container-id-4 div.sk-text-repr-fallback {display: none;}</style><div id=\"sk-container-id-4\" class=\"sk-top-container\"><div class=\"sk-text-repr-fallback\"><pre>LinearRegression()</pre><b>In a Jupyter environment, please rerun this cell to show the HTML representation or trust the notebook. <br />On GitHub, the HTML representation is unable to render, please try loading this page with nbviewer.org.</b></div><div class=\"sk-container\" hidden><div class=\"sk-item\"><div class=\"sk-estimator sk-toggleable\"><input class=\"sk-toggleable__control sk-hidden--visually\" id=\"sk-estimator-id-4\" type=\"checkbox\" checked><label for=\"sk-estimator-id-4\" class=\"sk-toggleable__label sk-toggleable__label-arrow\">LinearRegression</label><div class=\"sk-toggleable__content\"><pre>LinearRegression()</pre></div></div></div></div></div>"
            ]
          },
          "metadata": {},
          "execution_count": 32
        }
      ]
    },
    {
      "cell_type": "code",
      "source": [
        "from sklearn.metrics import r2_score\n",
        "score=r2_score(y_test,reg_1.predict(X_test))\n",
        "print(score)"
      ],
      "metadata": {
        "colab": {
          "base_uri": "https://localhost:8080/"
        },
        "id": "bbA9cOGNUrBK",
        "outputId": "e0460af8-bca6-4ea7-b766-7c357f6eae5e"
      },
      "execution_count": 33,
      "outputs": [
        {
          "output_type": "stream",
          "name": "stdout",
          "text": [
            "0.7061634554874637\n"
          ]
        }
      ]
    },
    {
      "cell_type": "code",
      "source": [
        "plt.plot(X_train,reg_1.predict(X_train),color='r')\n",
        "plt.scatter(X_train,y_train)\n",
        "plt.xlabel('X dataset')\n",
        "plt.ylabel('y dataset')"
      ],
      "metadata": {
        "colab": {
          "base_uri": "https://localhost:8080/",
          "height": 467
        },
        "id": "ve4cu1TdWAQd",
        "outputId": "85b74f01-c1c4-4a37-899c-eaca6fc58b62"
      },
      "execution_count": 34,
      "outputs": [
        {
          "output_type": "execute_result",
          "data": {
            "text/plain": [
              "Text(0, 0.5, 'y dataset')"
            ]
          },
          "metadata": {},
          "execution_count": 34
        },
        {
          "output_type": "display_data",
          "data": {
            "text/plain": [
              "<Figure size 640x480 with 1 Axes>"
            ],
            "image/png": "[encoded data removed]"
          },
          "metadata": {}
        }
      ]
    },
    {
      "cell_type": "code",
      "source": [
        "#lets  apply polynomial transformation\n",
        "from sklearn.preprocessing import PolynomialFeatures"
      ],
      "metadata": {
        "id": "vCH3PiRHW3D6"
      },
      "execution_count": 35,
      "outputs": []
    },
    {
      "cell_type": "code",
      "source": [
        "poly=PolynomialFeatures(degree=2,include_bias=True)\n",
        "X_train_poly=poly.fit_transform(X_train)\n",
        "X_test_poly=poly.fit(X_test)"
      ],
      "metadata": {
        "id": "FY-IeUtLenV6"
      },
      "execution_count": 36,
      "outputs": []
    },
    {
      "cell_type": "code",
      "source": [
        "X_train_poly"
      ],
      "metadata": {
        "colab": {
          "base_uri": "https://localhost:8080/"
        },
        "id": "b0QBTr83iIZR",
        "outputId": "0c64cf62-9a98-454e-b884-c6415a7d9fd6"
      },
      "execution_count": 37,
      "outputs": [
        {
          "output_type": "execute_result",
          "data": {
            "text/plain": [
              "array([[ 1.00000000e+00,  1.68813807e-01,  2.84981014e-02],\n",
              "       [ 1.00000000e+00, -1.76751205e+00,  3.12409885e+00],\n",
              "       [ 1.00000000e+00, -2.43534052e+00,  5.93088346e+00],\n",
              "       [ 1.00000000e+00, -1.93792478e+00,  3.75555247e+00],\n",
              "       [ 1.00000000e+00, -2.00773848e+00,  4.03101381e+00],\n",
              "       [ 1.00000000e+00,  2.44409652e+00,  5.97360781e+00],\n",
              "       [ 1.00000000e+00, -5.47842180e-01,  3.00131054e-01],\n",
              "       [ 1.00000000e+00, -5.55263217e-02,  3.08317240e-03],\n",
              "       [ 1.00000000e+00,  2.43654605e+00,  5.93675664e+00],\n",
              "       [ 1.00000000e+00, -1.77889943e+00,  3.16448318e+00],\n",
              "       [ 1.00000000e+00,  1.57287607e+00,  2.47393914e+00],\n",
              "       [ 1.00000000e+00, -1.28368726e+00,  1.64785298e+00],\n",
              "       [ 1.00000000e+00, -8.89462955e-01,  7.91144348e-01],\n",
              "       [ 1.00000000e+00,  2.70038287e+00,  7.29206767e+00],\n",
              "       [ 1.00000000e+00, -5.10441336e-01,  2.60550358e-01],\n",
              "       [ 1.00000000e+00,  2.66669315e+00,  7.11125234e+00],\n",
              "       [ 1.00000000e+00, -2.64533461e+00,  6.99779520e+00],\n",
              "       [ 1.00000000e+00, -1.11453367e+00,  1.24218530e+00],\n",
              "       [ 1.00000000e+00,  1.37426470e+00,  1.88860346e+00],\n",
              "       [ 1.00000000e+00, -2.25612540e+00,  5.09010182e+00],\n",
              "       [ 1.00000000e+00,  1.88900673e+00,  3.56834644e+00],\n",
              "       [ 1.00000000e+00,  2.52093306e+00,  6.35510351e+00],\n",
              "       [ 1.00000000e+00,  2.61609121e+00,  6.84393320e+00],\n",
              "       [ 1.00000000e+00, -1.70471370e-01,  2.90604881e-02],\n",
              "       [ 1.00000000e+00, -2.54525898e+00,  6.47834329e+00],\n",
              "       [ 1.00000000e+00,  8.14526973e-01,  6.63454190e-01],\n",
              "       [ 1.00000000e+00,  2.41255923e+00,  5.82044202e+00],\n",
              "       [ 1.00000000e+00, -4.33271523e-01,  1.87724213e-01],\n",
              "       [ 1.00000000e+00,  2.45544715e+00,  6.02922071e+00],\n",
              "       [ 1.00000000e+00,  2.23204816e+00,  4.98203901e+00],\n",
              "       [ 1.00000000e+00,  2.82244255e+00,  7.96618193e+00],\n",
              "       [ 1.00000000e+00,  5.62221732e-01,  3.16093276e-01],\n",
              "       [ 1.00000000e+00,  1.33880506e+00,  1.79239898e+00],\n",
              "       [ 1.00000000e+00,  2.61032128e+00,  6.81377717e+00],\n",
              "       [ 1.00000000e+00,  3.96164989e-01,  1.56946698e-01],\n",
              "       [ 1.00000000e+00,  2.64390824e+00,  6.99025076e+00],\n",
              "       [ 1.00000000e+00, -6.68947896e-01,  4.47491288e-01],\n",
              "       [ 1.00000000e+00,  7.41066209e-01,  5.49179127e-01],\n",
              "       [ 1.00000000e+00, -1.62104795e+00,  2.62779647e+00],\n",
              "       [ 1.00000000e+00,  1.61064104e+00,  2.59416456e+00],\n",
              "       [ 1.00000000e+00,  5.68732661e-01,  3.23456839e-01],\n",
              "       [ 1.00000000e+00, -1.20202384e+00,  1.44486132e+00],\n",
              "       [ 1.00000000e+00, -2.95351380e+00,  8.72324375e+00],\n",
              "       [ 1.00000000e+00, -1.74892871e-01,  3.05875164e-02],\n",
              "       [ 1.00000000e+00,  1.10029300e+00,  1.21064468e+00],\n",
              "       [ 1.00000000e+00, -8.63001821e-01,  7.44772142e-01],\n",
              "       [ 1.00000000e+00, -1.72149145e-01,  2.96353280e-02],\n",
              "       [ 1.00000000e+00, -1.92373952e+00,  3.70077373e+00],\n",
              "       [ 1.00000000e+00,  2.64248433e-01,  6.98272346e-02],\n",
              "       [ 1.00000000e+00, -1.98225877e+00,  3.92934983e+00],\n",
              "       [ 1.00000000e+00,  1.02114756e+00,  1.04274234e+00],\n",
              "       [ 1.00000000e+00, -1.82620435e+00,  3.33502231e+00],\n",
              "       [ 1.00000000e+00,  2.33138918e+00,  5.43537551e+00],\n",
              "       [ 1.00000000e+00,  1.98746114e+00,  3.95000177e+00],\n",
              "       [ 1.00000000e+00, -1.72046183e+00,  2.95998893e+00],\n",
              "       [ 1.00000000e+00,  2.43637695e+00,  5.93593264e+00],\n",
              "       [ 1.00000000e+00,  7.18295432e-01,  5.15948328e-01],\n",
              "       [ 1.00000000e+00,  7.35507158e-01,  5.40970780e-01],\n",
              "       [ 1.00000000e+00,  2.04118339e-01,  4.16642964e-02],\n",
              "       [ 1.00000000e+00,  2.88111853e+00,  8.30084399e+00],\n",
              "       [ 1.00000000e+00, -2.43164819e+00,  5.91291293e+00],\n",
              "       [ 1.00000000e+00, -8.75515911e-01,  7.66528111e-01],\n",
              "       [ 1.00000000e+00,  2.02143158e+00,  4.08618565e+00],\n",
              "       [ 1.00000000e+00, -2.12912395e+00,  4.53316878e+00],\n",
              "       [ 1.00000000e+00, -1.91063481e+00,  3.65052538e+00],\n",
              "       [ 1.00000000e+00, -2.42260552e-03,  5.86901751e-06],\n",
              "       [ 1.00000000e+00,  2.10122289e+00,  4.41513764e+00],\n",
              "       [ 1.00000000e+00, -2.35606364e+00,  5.55103589e+00],\n",
              "       [ 1.00000000e+00,  7.81612087e-01,  6.10917455e-01],\n",
              "       [ 1.00000000e+00, -3.25068612e-01,  1.05669602e-01],\n",
              "       [ 1.00000000e+00, -2.82440257e+00,  7.97724985e+00],\n",
              "       [ 1.00000000e+00,  2.33800053e+00,  5.46624649e+00],\n",
              "       [ 1.00000000e+00,  8.47577159e-01,  7.18387041e-01],\n",
              "       [ 1.00000000e+00, -2.22353813e+00,  4.94412183e+00],\n",
              "       [ 1.00000000e+00, -2.40356348e+00,  5.77711742e+00],\n",
              "       [ 1.00000000e+00, -2.18480227e+00,  4.77336097e+00],\n",
              "       [ 1.00000000e+00,  4.76272704e-01,  2.26835688e-01],\n",
              "       [ 1.00000000e+00,  2.65896736e+00,  7.07010740e+00],\n",
              "       [ 1.00000000e+00, -2.01141125e+00,  4.04577524e+00],\n",
              "       [ 1.00000000e+00,  1.33950918e+00,  1.79428484e+00]])"
            ]
          },
          "metadata": {},
          "execution_count": 37
        }
      ]
    },
    {
      "cell_type": "code",
      "source": [
        "X_test_poly"
      ],
      "metadata": {
        "colab": {
          "base_uri": "https://localhost:8080/"
        },
        "id": "PDygWzC6iLwT",
        "outputId": "8216f45c-46a1-4c31-a891-c095dbe1cac2"
      },
      "execution_count": 55,
      "outputs": [
        {
          "output_type": "execute_result",
          "data": {
            "text/plain": [
              "array([[ 1.        , -2.94399661,  8.66711602],\n",
              "       [ 1.        , -1.02601221,  1.05270105],\n",
              "       [ 1.        ,  1.35633851,  1.83965416],\n",
              "       [ 1.        , -0.9239904 ,  0.85375827],\n",
              "       [ 1.        , -1.43271173,  2.05266291],\n",
              "       [ 1.        ,  1.83040613,  3.3503866 ],\n",
              "       [ 1.        , -1.70943158,  2.92215633],\n",
              "       [ 1.        , -2.0612046 ,  4.24856441],\n",
              "       [ 1.        , -0.24268708,  0.05889702],\n",
              "       [ 1.        ,  2.93155802,  8.59403242],\n",
              "       [ 1.        ,  1.89450978,  3.58916731],\n",
              "       [ 1.        ,  1.00418628,  1.00839008],\n",
              "       [ 1.        , -1.77191964,  3.1396992 ],\n",
              "       [ 1.        ,  2.09515335,  4.38966757],\n",
              "       [ 1.        , -2.16827358,  4.70141032],\n",
              "       [ 1.        ,  1.85188875,  3.42949195],\n",
              "       [ 1.        ,  0.5666283 ,  0.32106763],\n",
              "       [ 1.        , -0.6664034 ,  0.4440935 ],\n",
              "       [ 1.        , -0.74098647,  0.54906095],\n",
              "       [ 1.        , -2.36693582,  5.60238519]])"
            ]
          },
          "metadata": {},
          "execution_count": 55
        }
      ]
    },
    {
      "cell_type": "code",
      "source": [
        "from sklearn.metrics import r2_score\n",
        "reg_2=LinearRegression()\n",
        "reg_2.fit(X_train_poly,y_train)\n",
        "y_pred=reg_2.predict(X_test_poly)\n",
        "score=r2_score(y_test,y_pred)\n",
        "print(score)"
      ],
      "metadata": {
        "colab": {
          "base_uri": "https://localhost:8080/"
        },
        "id": "AJojDYfxioje",
        "outputId": "0fd992c3-75a0-4d14-dcbd-b0c1a929541b"
      },
      "execution_count": 57,
      "outputs": [
        {
          "output_type": "stream",
          "name": "stdout",
          "text": [
            "0.8475728664093021\n"
          ]
        }
      ]
    },
    {
      "cell_type": "code",
      "source": [
        "print(reg_2.coef_)"
      ],
      "metadata": {
        "colab": {
          "base_uri": "https://localhost:8080/"
        },
        "id": "5P0kaGaFLkZc",
        "outputId": "4c8abd95-ec96-4f19-9189-eaa46f2a23e9"
      },
      "execution_count": 59,
      "outputs": [
        {
          "output_type": "stream",
          "name": "stdout",
          "text": [
            "[[0.         1.59644346 0.49148998]]\n"
          ]
        }
      ]
    },
    {
      "cell_type": "code",
      "source": [
        "print(reg_2.intercept_)"
      ],
      "metadata": {
        "colab": {
          "base_uri": "https://localhost:8080/"
        },
        "id": "33I3AjxoM2M5",
        "outputId": "4e04e5ac-d73b-4f9f-ec40-72e0cb78995d"
      },
      "execution_count": 60,
      "outputs": [
        {
          "output_type": "stream",
          "name": "stdout",
          "text": [
            "[2.12394743]\n"
          ]
        }
      ]
    },
    {
      "cell_type": "code",
      "source": [
        "plt.scatter(X_train,reg_2.predict(X_train_poly))\n",
        "plt.scatter(X_train,y_train)"
      ],
      "metadata": {
        "colab": {
          "base_uri": "https://localhost:8080/",
          "height": 448
        },
        "id": "0-C4ltFXNAmq",
        "outputId": "b628d371-f538-48c5-db3d-262193fa07b7"
      },
      "execution_count": 63,
      "outputs": [
        {
          "output_type": "execute_result",
          "data": {
            "text/plain": [
              "<matplotlib.collections.PathCollection at 0x7e9df7757400>"
            ]
          },
          "metadata": {},
          "execution_count": 63
        },
        {
          "output_type": "display_data",
          "data": {
            "text/plain": [
              "<Figure size 640x480 with 1 Axes>"
            ],
            "image/png": "[encoded data removed]"
          },
          "metadata": {}
        }
      ]
    },
    {
      "cell_type": "code",
      "source": [
        "poly=PolynomialFeatures(degree=2,include_bias=True)\n",
        "X_train_poly=poly.fit_transform(X_train)\n",
        "X_test_poly=poly.transform(X_test)\n"
      ],
      "metadata": {
        "id": "cAO0GzErNMHO"
      },
      "execution_count": 64,
      "outputs": []
    },
    {
      "cell_type": "code",
      "source": [
        "X_train_poly"
      ],
      "metadata": {
        "colab": {
          "base_uri": "https://localhost:8080/"
        },
        "id": "BLx_xnX0P6Pm",
        "outputId": "7507e65c-9e8e-4067-d8fb-b8a498d53a6e"
      },
      "execution_count": 65,
      "outputs": [
        {
          "output_type": "execute_result",
          "data": {
            "text/plain": [
              "array([[ 1.00000000e+00, -2.22895268e+00,  4.96823006e+00],\n",
              "       [ 1.00000000e+00, -1.95454734e+00,  3.82025531e+00],\n",
              "       [ 1.00000000e+00, -5.01828147e-02,  2.51831489e-03],\n",
              "       [ 1.00000000e+00,  9.43877363e-01,  8.90904476e-01],\n",
              "       [ 1.00000000e+00, -4.92229836e-01,  2.42290212e-01],\n",
              "       [ 1.00000000e+00,  9.96404454e-02,  9.92821835e-03],\n",
              "       [ 1.00000000e+00, -1.05555591e+00,  1.11419827e+00],\n",
              "       [ 1.00000000e+00, -1.97074559e+00,  3.88383819e+00],\n",
              "       [ 1.00000000e+00,  1.18298046e+00,  1.39944278e+00],\n",
              "       [ 1.00000000e+00, -8.99144617e-02,  8.08461042e-03],\n",
              "       [ 1.00000000e+00, -1.91682343e+00,  3.67421205e+00],\n",
              "       [ 1.00000000e+00, -1.35596217e+00,  1.83863339e+00],\n",
              "       [ 1.00000000e+00,  6.77133322e-02,  4.58509536e-03],\n",
              "       [ 1.00000000e+00,  2.52030612e+00,  6.35194294e+00],\n",
              "       [ 1.00000000e+00, -6.04993471e-01,  3.66017100e-01],\n",
              "       [ 1.00000000e+00, -1.21646105e+00,  1.47977748e+00],\n",
              "       [ 1.00000000e+00, -1.68428452e+00,  2.83681434e+00],\n",
              "       [ 1.00000000e+00, -2.32654390e+00,  5.41280650e+00],\n",
              "       [ 1.00000000e+00, -2.46047499e+00,  6.05393719e+00],\n",
              "       [ 1.00000000e+00,  5.02524814e-01,  2.52531189e-01],\n",
              "       [ 1.00000000e+00, -1.06804933e+00,  1.14072936e+00],\n",
              "       [ 1.00000000e+00,  1.88043010e+00,  3.53601735e+00],\n",
              "       [ 1.00000000e+00,  1.97012192e+00,  3.88138038e+00],\n",
              "       [ 1.00000000e+00, -4.02007247e-01,  1.61609827e-01],\n",
              "       [ 1.00000000e+00, -1.59133409e+00,  2.53234419e+00],\n",
              "       [ 1.00000000e+00, -1.80297081e+00,  3.25070372e+00],\n",
              "       [ 1.00000000e+00,  1.31946018e+00,  1.74097517e+00],\n",
              "       [ 1.00000000e+00,  1.92856192e+00,  3.71935106e+00],\n",
              "       [ 1.00000000e+00,  1.28585779e+00,  1.65343026e+00],\n",
              "       [ 1.00000000e+00,  2.78676781e+00,  7.76607484e+00],\n",
              "       [ 1.00000000e+00,  1.18176341e+00,  1.39656475e+00],\n",
              "       [ 1.00000000e+00, -7.32894400e-01,  5.37134202e-01],\n",
              "       [ 1.00000000e+00, -2.15631729e+00,  4.64970425e+00],\n",
              "       [ 1.00000000e+00,  2.31309773e+00,  5.35042111e+00],\n",
              "       [ 1.00000000e+00,  2.80413727e+00,  7.86318584e+00],\n",
              "       [ 1.00000000e+00,  9.99127010e-01,  9.98254782e-01],\n",
              "       [ 1.00000000e+00, -2.12176708e+00,  4.50189552e+00],\n",
              "       [ 1.00000000e+00, -2.20122902e+00,  4.84540922e+00],\n",
              "       [ 1.00000000e+00, -1.78986962e+00,  3.20363324e+00],\n",
              "       [ 1.00000000e+00,  3.39087219e-01,  1.14980142e-01],\n",
              "       [ 1.00000000e+00, -2.67891161e+00,  7.17656744e+00],\n",
              "       [ 1.00000000e+00,  2.07508278e+00,  4.30596855e+00],\n",
              "       [ 1.00000000e+00,  1.06807063e+00,  1.14077486e+00],\n",
              "       [ 1.00000000e+00,  1.34318041e+00,  1.80413362e+00],\n",
              "       [ 1.00000000e+00,  1.30993235e+00,  1.71592276e+00],\n",
              "       [ 1.00000000e+00,  2.72904594e+00,  7.44769172e+00],\n",
              "       [ 1.00000000e+00, -1.80273434e+00,  3.24985112e+00],\n",
              "       [ 1.00000000e+00, -8.69007690e-01,  7.55174366e-01],\n",
              "       [ 1.00000000e+00, -1.38708900e+00,  1.92401590e+00],\n",
              "       [ 1.00000000e+00, -3.50886818e-01,  1.23121559e-01],\n",
              "       [ 1.00000000e+00, -1.97317018e+00,  3.89340058e+00],\n",
              "       [ 1.00000000e+00, -7.49149706e-01,  5.61225282e-01],\n",
              "       [ 1.00000000e+00, -3.44765605e-01,  1.18863322e-01],\n",
              "       [ 1.00000000e+00,  2.98911363e+00,  8.93480028e+00],\n",
              "       [ 1.00000000e+00,  2.80911801e+00,  7.89114401e+00],\n",
              "       [ 1.00000000e+00, -1.78029392e+00,  3.16944643e+00],\n",
              "       [ 1.00000000e+00, -9.85141421e-01,  9.70503619e-01],\n",
              "       [ 1.00000000e+00,  1.41542654e+00,  2.00343228e+00],\n",
              "       [ 1.00000000e+00,  1.07101126e+00,  1.14706511e+00],\n",
              "       [ 1.00000000e+00,  8.85196778e-02,  7.83573337e-03],\n",
              "       [ 1.00000000e+00,  3.46721256e-01,  1.20215630e-01],\n",
              "       [ 1.00000000e+00, -2.76131104e+00,  7.62483866e+00],\n",
              "       [ 1.00000000e+00,  2.59340831e-01,  6.72576666e-02],\n",
              "       [ 1.00000000e+00, -2.88319132e+00,  8.31279221e+00],\n",
              "       [ 1.00000000e+00, -1.77876253e+00,  3.16399614e+00],\n",
              "       [ 1.00000000e+00,  1.48894746e+00,  2.21696452e+00],\n",
              "       [ 1.00000000e+00,  7.47103951e-01,  5.58164314e-01],\n",
              "       [ 1.00000000e+00, -2.33337644e+00,  5.44464563e+00],\n",
              "       [ 1.00000000e+00,  2.57204385e+00,  6.61540957e+00],\n",
              "       [ 1.00000000e+00,  9.57146337e-01,  9.16129110e-01],\n",
              "       [ 1.00000000e+00,  1.61153674e+00,  2.59705068e+00],\n",
              "       [ 1.00000000e+00, -9.81194073e-01,  9.62741808e-01],\n",
              "       [ 1.00000000e+00, -2.00543558e+00,  4.02177188e+00],\n",
              "       [ 1.00000000e+00,  2.04015433e+00,  4.16222970e+00],\n",
              "       [ 1.00000000e+00, -2.93212391e+00,  8.59735065e+00],\n",
              "       [ 1.00000000e+00,  1.67575547e+00,  2.80815638e+00],\n",
              "       [ 1.00000000e+00,  1.03773918e+00,  1.07690260e+00],\n",
              "       [ 1.00000000e+00, -2.83458556e+00,  8.03487527e+00],\n",
              "       [ 1.00000000e+00, -2.11246429e+00,  4.46250540e+00],\n",
              "       [ 1.00000000e+00,  1.00939596e+00,  1.01888020e+00]])"
            ]
          },
          "metadata": {},
          "execution_count": 65
        }
      ]
    },
    {
      "cell_type": "code",
      "source": [
        "X_test_poly"
      ],
      "metadata": {
        "colab": {
          "base_uri": "https://localhost:8080/"
        },
        "id": "FYlQdMmuP9PD",
        "outputId": "f78097f4-21be-4f4c-918d-1dd0fc94795b"
      },
      "execution_count": 66,
      "outputs": [
        {
          "output_type": "execute_result",
          "data": {
            "text/plain": [
              "array([[ 1.        , -2.94399661,  8.66711602],\n",
              "       [ 1.        , -1.02601221,  1.05270105],\n",
              "       [ 1.        ,  1.35633851,  1.83965416],\n",
              "       [ 1.        , -0.9239904 ,  0.85375827],\n",
              "       [ 1.        , -1.43271173,  2.05266291],\n",
              "       [ 1.        ,  1.83040613,  3.3503866 ],\n",
              "       [ 1.        , -1.70943158,  2.92215633],\n",
              "       [ 1.        , -2.0612046 ,  4.24856441],\n",
              "       [ 1.        , -0.24268708,  0.05889702],\n",
              "       [ 1.        ,  2.93155802,  8.59403242],\n",
              "       [ 1.        ,  1.89450978,  3.58916731],\n",
              "       [ 1.        ,  1.00418628,  1.00839008],\n",
              "       [ 1.        , -1.77191964,  3.1396992 ],\n",
              "       [ 1.        ,  2.09515335,  4.38966757],\n",
              "       [ 1.        , -2.16827358,  4.70141032],\n",
              "       [ 1.        ,  1.85188875,  3.42949195],\n",
              "       [ 1.        ,  0.5666283 ,  0.32106763],\n",
              "       [ 1.        , -0.6664034 ,  0.4440935 ],\n",
              "       [ 1.        , -0.74098647,  0.54906095],\n",
              "       [ 1.        , -2.36693582,  5.60238519]])"
            ]
          },
          "metadata": {},
          "execution_count": 66
        }
      ]
    },
    {
      "cell_type": "code",
      "source": [
        "from sklearn.metrics import r2_score\n",
        "reg_3=LinearRegression()\n",
        "reg_3.fit(X_train_poly,y_train)\n",
        "y_pred =reg_3.predict(X_test_poly)\n",
        "score=r2_score(y_test,y_pred)\n",
        "print(score)"
      ],
      "metadata": {
        "colab": {
          "base_uri": "https://localhost:8080/"
        },
        "id": "Oy49GmDLQAAr",
        "outputId": "e5122a34-8c53-4b9f-e35b-87dc19f0589a"
      },
      "execution_count": 67,
      "outputs": [
        {
          "output_type": "stream",
          "name": "stdout",
          "text": [
            "0.8475728664093021\n"
          ]
        }
      ]
    },
    {
      "cell_type": "code",
      "source": [
        "X_new=np.linspace(-3,3,200).reshape(200,1)\n",
        "X_new_poly=poly.transform(X_new)\n",
        "X_new_poly"
      ],
      "metadata": {
        "colab": {
          "base_uri": "https://localhost:8080/"
        },
        "id": "znSYHWZtRax7",
        "outputId": "1f3c0fe1-8acf-4c78-fc57-555ec9fe8333"
      },
      "execution_count": 69,
      "outputs": [
        {
          "output_type": "execute_result",
          "data": {
            "text/plain": [
              "array([[ 1.00000000e+00, -3.00000000e+00,  9.00000000e+00],\n",
              "       [ 1.00000000e+00, -2.96984925e+00,  8.82000455e+00],\n",
              "       [ 1.00000000e+00, -2.93969849e+00,  8.64182723e+00],\n",
              "       [ 1.00000000e+00, -2.90954774e+00,  8.46546804e+00],\n",
              "       [ 1.00000000e+00, -2.87939698e+00,  8.29092700e+00],\n",
              "       [ 1.00000000e+00, -2.84924623e+00,  8.11820409e+00],\n",
              "       [ 1.00000000e+00, -2.81909548e+00,  7.94729931e+00],\n",
              "       [ 1.00000000e+00, -2.78894472e+00,  7.77821267e+00],\n",
              "       [ 1.00000000e+00, -2.75879397e+00,  7.61094417e+00],\n",
              "       [ 1.00000000e+00, -2.72864322e+00,  7.44549380e+00],\n",
              "       [ 1.00000000e+00, -2.69849246e+00,  7.28186157e+00],\n",
              "       [ 1.00000000e+00, -2.66834171e+00,  7.12004747e+00],\n",
              "       [ 1.00000000e+00, -2.63819095e+00,  6.96005151e+00],\n",
              "       [ 1.00000000e+00, -2.60804020e+00,  6.80187369e+00],\n",
              "       [ 1.00000000e+00, -2.57788945e+00,  6.64551400e+00],\n",
              "       [ 1.00000000e+00, -2.54773869e+00,  6.49097245e+00],\n",
              "       [ 1.00000000e+00, -2.51758794e+00,  6.33824903e+00],\n",
              "       [ 1.00000000e+00, -2.48743719e+00,  6.18734375e+00],\n",
              "       [ 1.00000000e+00, -2.45728643e+00,  6.03825661e+00],\n",
              "       [ 1.00000000e+00, -2.42713568e+00,  5.89098760e+00],\n",
              "       [ 1.00000000e+00, -2.39698492e+00,  5.74553673e+00],\n",
              "       [ 1.00000000e+00, -2.36683417e+00,  5.60190399e+00],\n",
              "       [ 1.00000000e+00, -2.33668342e+00,  5.46008939e+00],\n",
              "       [ 1.00000000e+00, -2.30653266e+00,  5.32009293e+00],\n",
              "       [ 1.00000000e+00, -2.27638191e+00,  5.18191460e+00],\n",
              "       [ 1.00000000e+00, -2.24623116e+00,  5.04555441e+00],\n",
              "       [ 1.00000000e+00, -2.21608040e+00,  4.91101235e+00],\n",
              "       [ 1.00000000e+00, -2.18592965e+00,  4.77828843e+00],\n",
              "       [ 1.00000000e+00, -2.15577889e+00,  4.64738264e+00],\n",
              "       [ 1.00000000e+00, -2.12562814e+00,  4.51829499e+00],\n",
              "       [ 1.00000000e+00, -2.09547739e+00,  4.39102548e+00],\n",
              "       [ 1.00000000e+00, -2.06532663e+00,  4.26557410e+00],\n",
              "       [ 1.00000000e+00, -2.03517588e+00,  4.14194086e+00],\n",
              "       [ 1.00000000e+00, -2.00502513e+00,  4.02012575e+00],\n",
              "       [ 1.00000000e+00, -1.97487437e+00,  3.90012878e+00],\n",
              "       [ 1.00000000e+00, -1.94472362e+00,  3.78194995e+00],\n",
              "       [ 1.00000000e+00, -1.91457286e+00,  3.66558925e+00],\n",
              "       [ 1.00000000e+00, -1.88442211e+00,  3.55104669e+00],\n",
              "       [ 1.00000000e+00, -1.85427136e+00,  3.43832226e+00],\n",
              "       [ 1.00000000e+00, -1.82412060e+00,  3.32741597e+00],\n",
              "       [ 1.00000000e+00, -1.79396985e+00,  3.21832782e+00],\n",
              "       [ 1.00000000e+00, -1.76381910e+00,  3.11105780e+00],\n",
              "       [ 1.00000000e+00, -1.73366834e+00,  3.00560592e+00],\n",
              "       [ 1.00000000e+00, -1.70351759e+00,  2.90197217e+00],\n",
              "       [ 1.00000000e+00, -1.67336683e+00,  2.80015656e+00],\n",
              "       [ 1.00000000e+00, -1.64321608e+00,  2.70015909e+00],\n",
              "       [ 1.00000000e+00, -1.61306533e+00,  2.60197975e+00],\n",
              "       [ 1.00000000e+00, -1.58291457e+00,  2.50561854e+00],\n",
              "       [ 1.00000000e+00, -1.55276382e+00,  2.41107548e+00],\n",
              "       [ 1.00000000e+00, -1.52261307e+00,  2.31835055e+00],\n",
              "       [ 1.00000000e+00, -1.49246231e+00,  2.22744375e+00],\n",
              "       [ 1.00000000e+00, -1.46231156e+00,  2.13835509e+00],\n",
              "       [ 1.00000000e+00, -1.43216080e+00,  2.05108457e+00],\n",
              "       [ 1.00000000e+00, -1.40201005e+00,  1.96563218e+00],\n",
              "       [ 1.00000000e+00, -1.37185930e+00,  1.88199793e+00],\n",
              "       [ 1.00000000e+00, -1.34170854e+00,  1.80018181e+00],\n",
              "       [ 1.00000000e+00, -1.31155779e+00,  1.72018383e+00],\n",
              "       [ 1.00000000e+00, -1.28140704e+00,  1.64200399e+00],\n",
              "       [ 1.00000000e+00, -1.25125628e+00,  1.56564228e+00],\n",
              "       [ 1.00000000e+00, -1.22110553e+00,  1.49109871e+00],\n",
              "       [ 1.00000000e+00, -1.19095477e+00,  1.41837327e+00],\n",
              "       [ 1.00000000e+00, -1.16080402e+00,  1.34746597e+00],\n",
              "       [ 1.00000000e+00, -1.13065327e+00,  1.27837681e+00],\n",
              "       [ 1.00000000e+00, -1.10050251e+00,  1.21110578e+00],\n",
              "       [ 1.00000000e+00, -1.07035176e+00,  1.14565289e+00],\n",
              "       [ 1.00000000e+00, -1.04020101e+00,  1.08201813e+00],\n",
              "       [ 1.00000000e+00, -1.01005025e+00,  1.02020151e+00],\n",
              "       [ 1.00000000e+00, -9.79899497e-01,  9.60203025e-01],\n",
              "       [ 1.00000000e+00, -9.49748744e-01,  9.02022676e-01],\n",
              "       [ 1.00000000e+00, -9.19597990e-01,  8.45660463e-01],\n",
              "       [ 1.00000000e+00, -8.89447236e-01,  7.91116386e-01],\n",
              "       [ 1.00000000e+00, -8.59296482e-01,  7.38390445e-01],\n",
              "       [ 1.00000000e+00, -8.29145729e-01,  6.87482639e-01],\n",
              "       [ 1.00000000e+00, -7.98994975e-01,  6.38392970e-01],\n",
              "       [ 1.00000000e+00, -7.68844221e-01,  5.91121436e-01],\n",
              "       [ 1.00000000e+00, -7.38693467e-01,  5.45668039e-01],\n",
              "       [ 1.00000000e+00, -7.08542714e-01,  5.02032777e-01],\n",
              "       [ 1.00000000e+00, -6.78391960e-01,  4.60215651e-01],\n",
              "       [ 1.00000000e+00, -6.48241206e-01,  4.20216661e-01],\n",
              "       [ 1.00000000e+00, -6.18090452e-01,  3.82035807e-01],\n",
              "       [ 1.00000000e+00, -5.87939698e-01,  3.45673089e-01],\n",
              "       [ 1.00000000e+00, -5.57788945e-01,  3.11128507e-01],\n",
              "       [ 1.00000000e+00, -5.27638191e-01,  2.78402061e-01],\n",
              "       [ 1.00000000e+00, -4.97487437e-01,  2.47493750e-01],\n",
              "       [ 1.00000000e+00, -4.67336683e-01,  2.18403576e-01],\n",
              "       [ 1.00000000e+00, -4.37185930e-01,  1.91131537e-01],\n",
              "       [ 1.00000000e+00, -4.07035176e-01,  1.65677634e-01],\n",
              "       [ 1.00000000e+00, -3.76884422e-01,  1.42041868e-01],\n",
              "       [ 1.00000000e+00, -3.46733668e-01,  1.20224237e-01],\n",
              "       [ 1.00000000e+00, -3.16582915e-01,  1.00224742e-01],\n",
              "       [ 1.00000000e+00, -2.86432161e-01,  8.20433827e-02],\n",
              "       [ 1.00000000e+00, -2.56281407e-01,  6.56801596e-02],\n",
              "       [ 1.00000000e+00, -2.26130653e-01,  5.11350723e-02],\n",
              "       [ 1.00000000e+00, -1.95979899e-01,  3.84081210e-02],\n",
              "       [ 1.00000000e+00, -1.65829146e-01,  2.74993056e-02],\n",
              "       [ 1.00000000e+00, -1.35678392e-01,  1.84086260e-02],\n",
              "       [ 1.00000000e+00, -1.05527638e-01,  1.11360824e-02],\n",
              "       [ 1.00000000e+00, -7.53768844e-02,  5.68167471e-03],\n",
              "       [ 1.00000000e+00, -4.52261307e-02,  2.04540289e-03],\n",
              "       [ 1.00000000e+00, -1.50753769e-02,  2.27266988e-04],\n",
              "       [ 1.00000000e+00,  1.50753769e-02,  2.27266988e-04],\n",
              "       [ 1.00000000e+00,  4.52261307e-02,  2.04540289e-03],\n",
              "       [ 1.00000000e+00,  7.53768844e-02,  5.68167471e-03],\n",
              "       [ 1.00000000e+00,  1.05527638e-01,  1.11360824e-02],\n",
              "       [ 1.00000000e+00,  1.35678392e-01,  1.84086260e-02],\n",
              "       [ 1.00000000e+00,  1.65829146e-01,  2.74993056e-02],\n",
              "       [ 1.00000000e+00,  1.95979899e-01,  3.84081210e-02],\n",
              "       [ 1.00000000e+00,  2.26130653e-01,  5.11350723e-02],\n",
              "       [ 1.00000000e+00,  2.56281407e-01,  6.56801596e-02],\n",
              "       [ 1.00000000e+00,  2.86432161e-01,  8.20433827e-02],\n",
              "       [ 1.00000000e+00,  3.16582915e-01,  1.00224742e-01],\n",
              "       [ 1.00000000e+00,  3.46733668e-01,  1.20224237e-01],\n",
              "       [ 1.00000000e+00,  3.76884422e-01,  1.42041868e-01],\n",
              "       [ 1.00000000e+00,  4.07035176e-01,  1.65677634e-01],\n",
              "       [ 1.00000000e+00,  4.37185930e-01,  1.91131537e-01],\n",
              "       [ 1.00000000e+00,  4.67336683e-01,  2.18403576e-01],\n",
              "       [ 1.00000000e+00,  4.97487437e-01,  2.47493750e-01],\n",
              "       [ 1.00000000e+00,  5.27638191e-01,  2.78402061e-01],\n",
              "       [ 1.00000000e+00,  5.57788945e-01,  3.11128507e-01],\n",
              "       [ 1.00000000e+00,  5.87939698e-01,  3.45673089e-01],\n",
              "       [ 1.00000000e+00,  6.18090452e-01,  3.82035807e-01],\n",
              "       [ 1.00000000e+00,  6.48241206e-01,  4.20216661e-01],\n",
              "       [ 1.00000000e+00,  6.78391960e-01,  4.60215651e-01],\n",
              "       [ 1.00000000e+00,  7.08542714e-01,  5.02032777e-01],\n",
              "       [ 1.00000000e+00,  7.38693467e-01,  5.45668039e-01],\n",
              "       [ 1.00000000e+00,  7.68844221e-01,  5.91121436e-01],\n",
              "       [ 1.00000000e+00,  7.98994975e-01,  6.38392970e-01],\n",
              "       [ 1.00000000e+00,  8.29145729e-01,  6.87482639e-01],\n",
              "       [ 1.00000000e+00,  8.59296482e-01,  7.38390445e-01],\n",
              "       [ 1.00000000e+00,  8.89447236e-01,  7.91116386e-01],\n",
              "       [ 1.00000000e+00,  9.19597990e-01,  8.45660463e-01],\n",
              "       [ 1.00000000e+00,  9.49748744e-01,  9.02022676e-01],\n",
              "       [ 1.00000000e+00,  9.79899497e-01,  9.60203025e-01],\n",
              "       [ 1.00000000e+00,  1.01005025e+00,  1.02020151e+00],\n",
              "       [ 1.00000000e+00,  1.04020101e+00,  1.08201813e+00],\n",
              "       [ 1.00000000e+00,  1.07035176e+00,  1.14565289e+00],\n",
              "       [ 1.00000000e+00,  1.10050251e+00,  1.21110578e+00],\n",
              "       [ 1.00000000e+00,  1.13065327e+00,  1.27837681e+00],\n",
              "       [ 1.00000000e+00,  1.16080402e+00,  1.34746597e+00],\n",
              "       [ 1.00000000e+00,  1.19095477e+00,  1.41837327e+00],\n",
              "       [ 1.00000000e+00,  1.22110553e+00,  1.49109871e+00],\n",
              "       [ 1.00000000e+00,  1.25125628e+00,  1.56564228e+00],\n",
              "       [ 1.00000000e+00,  1.28140704e+00,  1.64200399e+00],\n",
              "       [ 1.00000000e+00,  1.31155779e+00,  1.72018383e+00],\n",
              "       [ 1.00000000e+00,  1.34170854e+00,  1.80018181e+00],\n",
              "       [ 1.00000000e+00,  1.37185930e+00,  1.88199793e+00],\n",
              "       [ 1.00000000e+00,  1.40201005e+00,  1.96563218e+00],\n",
              "       [ 1.00000000e+00,  1.43216080e+00,  2.05108457e+00],\n",
              "       [ 1.00000000e+00,  1.46231156e+00,  2.13835509e+00],\n",
              "       [ 1.00000000e+00,  1.49246231e+00,  2.22744375e+00],\n",
              "       [ 1.00000000e+00,  1.52261307e+00,  2.31835055e+00],\n",
              "       [ 1.00000000e+00,  1.55276382e+00,  2.41107548e+00],\n",
              "       [ 1.00000000e+00,  1.58291457e+00,  2.50561854e+00],\n",
              "       [ 1.00000000e+00,  1.61306533e+00,  2.60197975e+00],\n",
              "       [ 1.00000000e+00,  1.64321608e+00,  2.70015909e+00],\n",
              "       [ 1.00000000e+00,  1.67336683e+00,  2.80015656e+00],\n",
              "       [ 1.00000000e+00,  1.70351759e+00,  2.90197217e+00],\n",
              "       [ 1.00000000e+00,  1.73366834e+00,  3.00560592e+00],\n",
              "       [ 1.00000000e+00,  1.76381910e+00,  3.11105780e+00],\n",
              "       [ 1.00000000e+00,  1.79396985e+00,  3.21832782e+00],\n",
              "       [ 1.00000000e+00,  1.82412060e+00,  3.32741597e+00],\n",
              "       [ 1.00000000e+00,  1.85427136e+00,  3.43832226e+00],\n",
              "       [ 1.00000000e+00,  1.88442211e+00,  3.55104669e+00],\n",
              "       [ 1.00000000e+00,  1.91457286e+00,  3.66558925e+00],\n",
              "       [ 1.00000000e+00,  1.94472362e+00,  3.78194995e+00],\n",
              "       [ 1.00000000e+00,  1.97487437e+00,  3.90012878e+00],\n",
              "       [ 1.00000000e+00,  2.00502513e+00,  4.02012575e+00],\n",
              "       [ 1.00000000e+00,  2.03517588e+00,  4.14194086e+00],\n",
              "       [ 1.00000000e+00,  2.06532663e+00,  4.26557410e+00],\n",
              "       [ 1.00000000e+00,  2.09547739e+00,  4.39102548e+00],\n",
              "       [ 1.00000000e+00,  2.12562814e+00,  4.51829499e+00],\n",
              "       [ 1.00000000e+00,  2.15577889e+00,  4.64738264e+00],\n",
              "       [ 1.00000000e+00,  2.18592965e+00,  4.77828843e+00],\n",
              "       [ 1.00000000e+00,  2.21608040e+00,  4.91101235e+00],\n",
              "       [ 1.00000000e+00,  2.24623116e+00,  5.04555441e+00],\n",
              "       [ 1.00000000e+00,  2.27638191e+00,  5.18191460e+00],\n",
              "       [ 1.00000000e+00,  2.30653266e+00,  5.32009293e+00],\n",
              "       [ 1.00000000e+00,  2.33668342e+00,  5.46008939e+00],\n",
              "       [ 1.00000000e+00,  2.36683417e+00,  5.60190399e+00],\n",
              "       [ 1.00000000e+00,  2.39698492e+00,  5.74553673e+00],\n",
              "       [ 1.00000000e+00,  2.42713568e+00,  5.89098760e+00],\n",
              "       [ 1.00000000e+00,  2.45728643e+00,  6.03825661e+00],\n",
              "       [ 1.00000000e+00,  2.48743719e+00,  6.18734375e+00],\n",
              "       [ 1.00000000e+00,  2.51758794e+00,  6.33824903e+00],\n",
              "       [ 1.00000000e+00,  2.54773869e+00,  6.49097245e+00],\n",
              "       [ 1.00000000e+00,  2.57788945e+00,  6.64551400e+00],\n",
              "       [ 1.00000000e+00,  2.60804020e+00,  6.80187369e+00],\n",
              "       [ 1.00000000e+00,  2.63819095e+00,  6.96005151e+00],\n",
              "       [ 1.00000000e+00,  2.66834171e+00,  7.12004747e+00],\n",
              "       [ 1.00000000e+00,  2.69849246e+00,  7.28186157e+00],\n",
              "       [ 1.00000000e+00,  2.72864322e+00,  7.44549380e+00],\n",
              "       [ 1.00000000e+00,  2.75879397e+00,  7.61094417e+00],\n",
              "       [ 1.00000000e+00,  2.78894472e+00,  7.77821267e+00],\n",
              "       [ 1.00000000e+00,  2.81909548e+00,  7.94729931e+00],\n",
              "       [ 1.00000000e+00,  2.84924623e+00,  8.11820409e+00],\n",
              "       [ 1.00000000e+00,  2.87939698e+00,  8.29092700e+00],\n",
              "       [ 1.00000000e+00,  2.90954774e+00,  8.46546804e+00],\n",
              "       [ 1.00000000e+00,  2.93969849e+00,  8.64182723e+00],\n",
              "       [ 1.00000000e+00,  2.96984925e+00,  8.82000455e+00],\n",
              "       [ 1.00000000e+00,  3.00000000e+00,  9.00000000e+00]])"
            ]
          },
          "metadata": {},
          "execution_count": 69
        }
      ]
    },
    {
      "cell_type": "code",
      "source": [
        "#reg_4=LinearRegression()\n",
        "y_new=reg_3.predict(X_new_poly)\n",
        "plt.plot(X_new,y_new,\"r-\",linewidth=2,label=\"New predictions\")\n",
        "plt.plot(X_train,y_train,\"b.\",label=\"Training points\")\n",
        "plt.plot(X_test,y_test,\"g.\",label=\"Testing points\")\n",
        "plt.xlabel(\"X\")\n",
        "plt.ylabel(\"Y\")\n",
        "plt.legend()\n",
        "plt.show()"
      ],
      "metadata": {
        "colab": {
          "base_uri": "https://localhost:8080/",
          "height": 449
        },
        "id": "_UkXxdc3TND3",
        "outputId": "ae61102f-c5a6-4a33-ea79-ede9a2e4fdf3"
      },
      "execution_count": 72,
      "outputs": [
        {
          "output_type": "display_data",
          "data": {
            "text/plain": [
              "<Figure size 640x480 with 1 Axes>"
            ],
            "image/png": "[encoded data removed]"
          },
          "metadata": {}
        }
      ]
    },
    {
      "cell_type": "code",
      "source": [],
      "metadata": {
        "id": "SlXJjwZsVQK-"
      },
      "execution_count": null,
      "outputs": []
    }
  ]
}